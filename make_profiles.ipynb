{
 "cells": [
  {
   "cell_type": "code",
   "execution_count": 1,
   "metadata": {},
   "outputs": [],
   "source": [
    "import json\n",
    "\n",
    "import numpy as np\n",
    "import pandas as pd"
   ]
  },
  {
   "cell_type": "code",
   "execution_count": 2,
   "metadata": {},
   "outputs": [],
   "source": [
    "def gen_html(contribution_dict, orcid, name):\n",
    "    html = \"\"\"\n",
    "    <!doctype html>\n",
    "    <title>{orcid}</title>\n",
    "    <h1>{name} ({orcid})</h1>\n",
    "    <br/>\n",
    "    \"\"\".format(orcid=orcid, name=name)\n",
    "\n",
    "    for section in contribution_dict.keys():\n",
    "        html += '<br/><h2>{0}</h2>'.format(section.upper())\n",
    "        for app in contribution_dict[section].keys():\n",
    "            metrics = list(contribution_dict[section][app].keys())\n",
    "            if len(metrics) == 1:\n",
    "                val = contribution_dict[section][app][metrics[0]]\n",
    "                if not np.isnan(float(val)) and float(val) != 0:\n",
    "                    html += '<br/>{0}: {1}'.format(app, val)\n",
    "            else:                \n",
    "                html += '<br/><h3>{0}</h3>'.format(app)\n",
    "                html += '<br/><ul>'\n",
    "                for metric in metrics:\n",
    "                    val = contribution_dict[section][app][metric]\n",
    "                    if not np.isnan(float(val)) and float(val) != 0:\n",
    "                        html += '<br/><li>{0}: {1}</li>'.format(metric, val)\n",
    "                html += '<br/></ul>'\n",
    "    return html"
   ]
  },
  {
   "cell_type": "code",
   "execution_count": 3,
   "metadata": {},
   "outputs": [],
   "source": [
    "df = pd.read_csv('all_contributions.csv', index_col='orcid')\n",
    "\n",
    "with open('database/ids.json', 'r') as fo:\n",
    "    ids_dict = json.load(fo)"
   ]
  },
  {
   "cell_type": "markdown",
   "metadata": {},
   "source": [
    "# Make dictionary with contribution info, indexed by ORCID"
   ]
  },
  {
   "cell_type": "code",
   "execution_count": 4,
   "metadata": {},
   "outputs": [],
   "source": [
    "contrib = {}\n",
    "for col in df.columns:\n",
    "    values = df[col].values\n",
    "    values = values[~np.isnan(values)]\n",
    "    if np.array_equal(values, values.astype(int)):\n",
    "        df[col] = df[col].fillna(-1)\n",
    "        df[col] = df[col].astype(int)\n",
    "        df[col] = df[col].astype(str)\n",
    "        df[col] = df[col].replace('-1', np.nan)\n",
    "    \n",
    "    subsections = col.split('_____')\n",
    "    section = subsections[0]\n",
    "    subsubsections = subsections[1].split('____')\n",
    "    app, metric = subsubsections\n",
    "    app = app.replace('___', '/').replace('__', '/')\n",
    "    \n",
    "    for orcid in ids_dict.keys():\n",
    "        if orcid not in contrib.keys():\n",
    "            contrib[orcid] = {}\n",
    "        \n",
    "        if section not in contrib[orcid].keys():\n",
    "            contrib[orcid][section] = {}\n",
    "\n",
    "        if app not in contrib[orcid][section].keys():\n",
    "            contrib[orcid][section][app] = {}\n",
    "\n",
    "        contrib[orcid][section][app][metric] = df.loc[orcid, col]\n"
   ]
  },
  {
   "cell_type": "markdown",
   "metadata": {},
   "source": [
    "# Make html file for each ORCID"
   ]
  },
  {
   "cell_type": "code",
   "execution_count": 6,
   "metadata": {},
   "outputs": [],
   "source": [
    "for id_ in contrib.keys():\n",
    "    temp = contrib[id_]\n",
    "    name = ids_dict[id_]['name']\n",
    "    html = gen_html(temp, id_, name)\n",
    "    \n",
    "    with open('profiles/{0}.html'.format(id_), 'w') as fo:\n",
    "        fo.write(html)"
   ]
  }
 ],
 "metadata": {
  "kernelspec": {
   "display_name": "Python [conda env:python3]",
   "language": "python",
   "name": "conda-env-python3-py"
  },
  "language_info": {
   "codemirror_mode": {
    "name": "ipython",
    "version": 3
   },
   "file_extension": ".py",
   "mimetype": "text/x-python",
   "name": "python",
   "nbconvert_exporter": "python",
   "pygments_lexer": "ipython3",
   "version": "3.6.4"
  }
 },
 "nbformat": 4,
 "nbformat_minor": 2
}
